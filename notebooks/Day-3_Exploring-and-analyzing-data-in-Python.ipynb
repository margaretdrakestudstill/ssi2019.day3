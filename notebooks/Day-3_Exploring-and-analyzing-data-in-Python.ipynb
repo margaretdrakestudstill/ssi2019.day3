{
 "cells": [
  {
   "cell_type": "markdown",
   "metadata": {
    "slideshow": {
     "slide_type": "slide"
    }
   },
   "source": [
    "# Overview of Day 3\n",
    "* Preliminaries\n",
    "* Describing and summarizing data\n",
    "* Visualization with matplotlib, pandas and seaborn\n",
    "* Statistical analysis in SciPy and statsmodels"
   ]
  },
  {
   "cell_type": "markdown",
   "metadata": {
    "slideshow": {
     "slide_type": "subslide"
    }
   },
   "source": [
    "# Preliminaries\n",
    "* Import stuff\n",
    "* Load the preprocessed data"
   ]
  },
  {
   "cell_type": "code",
   "execution_count": null,
   "metadata": {
    "slideshow": {
     "slide_type": "fragment"
    }
   },
   "outputs": [],
   "source": [
    "import pandas as pd\n",
    "import numpy as np\n",
    "import matplotlib.pyplot as plt\n",
    "import seaborn as sns\n",
    "from scipy import stats\n",
    "import statsmodels.formula.api as smf\n",
    "import statsmodels.api as sm\n",
    "\n",
    "%matplotlib inline\n",
    "\n",
    "# Disable annoying SettingWithCopyWarning\n",
    "pd.options.mode.chained_assignment = None"
   ]
  },
  {
   "cell_type": "code",
   "execution_count": null,
   "metadata": {
    "slideshow": {
     "slide_type": "fragment"
    }
   },
   "outputs": [],
   "source": [
    "# If you don't have the data locally, use the commented line instead\n",
    "data = pd.read_csv('../data/preprocessed_data.csv')\n",
    "# data = pd.read_csv('https://raw.githubusercontent.com/tyarkoni/SSI2017/master/data/preprocessed_data.csv', encoding='utf8')  \n",
    "\n",
    "data.head()"
   ]
  },
  {
   "cell_type": "markdown",
   "metadata": {
    "slideshow": {
     "slide_type": "slide"
    }
   },
   "source": [
    "# Describing and summarizing data\n",
    "* It's a good idea to explore your data before you start modeling\n",
    "* Surprising how often interesting results reflect overlooked problems"
   ]
  },
  {
   "cell_type": "markdown",
   "metadata": {
    "slideshow": {
     "slide_type": "slide"
    }
   },
   "source": [
    "### A bird's eye view\n",
    "* Simple pandas tools for describing/inspecting entire datasets\n",
    "    * .describe(), .head() and .tail(), .dtypes(), etc..."
   ]
  },
  {
   "cell_type": "code",
   "execution_count": null,
   "metadata": {
    "slideshow": {
     "slide_type": "subslide"
    }
   },
   "outputs": [],
   "source": [
    "# Describe the continuous variables in the dataset.\n",
    "# We can also include categoricals, or select other percentiles.\n",
    "data.describe(percentiles=[0.1, 0.9]).round(2)"
   ]
  },
  {
   "cell_type": "markdown",
   "metadata": {
    "slideshow": {
     "slide_type": "subslide"
    }
   },
   "source": [
    "## Frequency counts\n",
    "* 1-dimensional frequency counts can provide quick insight, diagnose problems\n",
    "* What are the [top dog and cat names](http://dogtime.com/dog-names/female-dog-names/21032-top-10-most-popular-dog-and-cat-names-of-2014) in Austin?"
   ]
  },
  {
   "cell_type": "code",
   "execution_count": null,
   "metadata": {
    "slideshow": {
     "slide_type": "fragment"
    }
   },
   "outputs": [],
   "source": [
    "top_n = 20\n",
    "for species in ['Dog', 'Cat']:\n",
    "    name_counts = data.query('animal == @species')['name'].value_counts()\n",
    "    print(\"\\nTop {} {} names:\\n{}\".format(top_n, species, name_counts[:top_n]))"
   ]
  },
  {
   "cell_type": "markdown",
   "metadata": {
    "slideshow": {
     "slide_type": "subslide"
    }
   },
   "source": [
    "### What the heck kind of name is \"X\"?"
   ]
  },
  {
   "cell_type": "code",
   "execution_count": null,
   "metadata": {
    "slideshow": {
     "slide_type": "fragment"
    }
   },
   "outputs": [],
   "source": [
    "data.query('name == \"X\"').head(10)"
   ]
  },
  {
   "cell_type": "markdown",
   "metadata": {
    "slideshow": {
     "slide_type": "subslide"
    }
   },
   "source": [
    "### Contingency tables\n",
    "* It's useful to examine contingency tables (or crosstabs) for pairs of variables\n",
    "* Normalized crosstabs can be particularly informative"
   ]
  },
  {
   "cell_type": "code",
   "execution_count": null,
   "metadata": {
    "slideshow": {
     "slide_type": "fragment"
    }
   },
   "outputs": [],
   "source": [
    "# Select only dogs\n",
    "dogs = data.query('animal==\"Dog\"')\n",
    "\n",
    "# Keep only common breeds--estimates won't be reliable for uncommon ones\n",
    "dogs = dogs.groupby('breed').filter(lambda x: len(x) >= 100)\n",
    "\n",
    "# How many breeds left?\n",
    "print(\"Unique breeds:\", dogs['breed'].nunique())\n",
    "\n",
    "# Generate contingency table\n",
    "ctab = pd.crosstab(dogs['breed'], data['outcome'])\n",
    "\n",
    "# Sort in descending order of number of animals of each breed\n",
    "order = ctab.sum(1).sort_values(ascending=False).index\n",
    "ctab = ctab.loc[order, :]\n",
    "\n",
    "# Show just the top 10\n",
    "ctab.iloc[:10, :]"
   ]
  },
  {
   "cell_type": "markdown",
   "metadata": {
    "slideshow": {
     "slide_type": "subslide"
    }
   },
   "source": [
    "#### Normalized crosstabs\n",
    "We can normalize the crosstab by dividing by the sum of the rows and/or columns"
   ]
  },
  {
   "cell_type": "code",
   "execution_count": null,
   "metadata": {
    "slideshow": {
     "slide_type": "fragment"
    }
   },
   "outputs": [],
   "source": [
    "# Normalize by row to show proportion of animals accounted for by each outcome\n",
    "nctab = pd.crosstab(dogs['breed'], data['outcome'], normalize='index')\n",
    "nctab = nctab.round(2)  # Round to 2 decimal places for clarity\n",
    "nctab.iloc[:10, :]"
   ]
  },
  {
   "cell_type": "markdown",
   "metadata": {
    "slideshow": {
     "slide_type": "subslide"
    }
   },
   "source": [
    "Let's sort by specific outcomes to see, e.g., which breeds are euthanized or adopted most often."
   ]
  },
  {
   "cell_type": "code",
   "execution_count": null,
   "metadata": {
    "slideshow": {
     "slide_type": "fragment"
    }
   },
   "outputs": [],
   "source": [
    "# Top 10 breeds by euthanasia rate\n",
    "nctab.sort_values('Euthanasia', ascending=False).iloc[:10]"
   ]
  },
  {
   "cell_type": "markdown",
   "metadata": {
    "slideshow": {
     "slide_type": "subslide"
    }
   },
   "source": [
    "#### Drilling down further\n",
    "* Euthanasia is a pretty general category\n",
    "* Why are Chow Chows and Pit bulls being euthanized at such a high rate?\n",
    "* Repeat with outcome subtype"
   ]
  },
  {
   "cell_type": "code",
   "execution_count": null,
   "metadata": {
    "slideshow": {
     "slide_type": "fragment"
    }
   },
   "outputs": [],
   "source": [
    "# We can do the same thing for outcome subtype\n",
    "data['outcome_subtype'] = data['outcome_subtype'].fillna('Unknown')\n",
    "sctab = pd.crosstab(dogs['breed'], data['outcome_subtype'], normalize='index').round(2)\n",
    "\n",
    "# We could add a column for number of dogs in each breed\n",
    "sctab['num_dogs'] = dogs.groupby('breed')['animal'].count()\n",
    "\n",
    "# sort in descending order of 'aggressive'\n",
    "sctab.sort_values('Aggressive', ascending=False)[:10]"
   ]
  },
  {
   "cell_type": "markdown",
   "metadata": {
    "slideshow": {
     "slide_type": "subslide"
    }
   },
   "source": [
    "### What does this mean?\n",
    "~1 in 8 Pit Bulls that pass through AAC are euthanized (and 1 in 7 Chow Chows!). Some possible interpretations:\n",
    "* Pit bulls are much more dangerous than other dog breeds\n",
    "    * A genetic disposition?\n",
    "    * Abusive owners?\n",
    "* There could be a bias against pit bulls, causing many to be unnecessarily euthanized\n",
    "* Mixed-breed dogs with behavioral problems may be more likely to be labeled pit bulls\n",
    "* Data artifact (e.g., smaller samples for these breeds)\n",
    "* Others?"
   ]
  },
  {
   "cell_type": "markdown",
   "metadata": {
    "slideshow": {
     "slide_type": "slide"
    }
   },
   "source": [
    "# Visualization in Python\n",
    "* That thing about a picture being worth...\n",
    "* Python has a rich visualization ecosystem\n",
    "* The primary platform for visualization in Python is [matplotlib](http://matplotlib.org/)\n",
    "* Most other visualization platforms build on matplotlib\n",
    "    * But there are others--e.g., [Altair](https://altair-viz.github.io/), [Bokeh](http://bokeh.pydata.org/en/latest/), [Plotly](https://plot.ly/python/)...\n"
   ]
  },
  {
   "cell_type": "markdown",
   "metadata": {
    "slideshow": {
     "slide_type": "subslide"
    }
   },
   "source": [
    "## Matplotlib\n",
    "* Highly object-oriented (contrast with, e.g., R)\n",
    "    * Easy to modify/customize plots created in different packages\n",
    "* Documentation is comprehensive, though not always very well organized\n",
    "    * The [visualization chapter](http://nbviewer.jupyter.org/github/jakevdp/PythonDataScienceHandbook/blob/master/notebooks/04.00-Introduction-To-Matplotlib.ipynb) in Jake Vanderplas's [book](https://github.com/jakevdp/PythonDataScienceHandbook/blob/599aa0fe3f882c0001670e676e5a8d43b92c35fc/notebooks/Index.ipynb) is spectacular\n",
    "    * A good way to learn is to find a plot similar to what you want in the [matplotlib gallery](https://matplotlib.org/gallery.html#) and modify it\n",
    "* Provides a basic set of high-level plots (barplot, scatter, etc.)\n",
    "* Beyond that, API has a fairly steep learning curve"
   ]
  },
  {
   "cell_type": "markdown",
   "metadata": {
    "slideshow": {
     "slide_type": "subslide"
    }
   },
   "source": [
    "### Simple examples"
   ]
  },
  {
   "cell_type": "markdown",
   "metadata": {
    "slideshow": {
     "slide_type": "fragment"
    }
   },
   "source": [
    "#### Scatterplot"
   ]
  },
  {
   "cell_type": "code",
   "execution_count": null,
   "metadata": {
    "scrolled": false,
    "slideshow": {
     "slide_type": "fragment"
    }
   },
   "outputs": [],
   "source": [
    "# Scatterplot of minimum breed weight vs. height\n",
    "plt.scatter(data['min_weight'], data['min_height'], color='green', s=30)\n",
    "\n",
    "# Add axis labels\n",
    "plt.xlabel(\"Min. breed weight\")\n",
    "plt.ylabel(\"Min. breed height\")\n",
    "# Add title\n",
    "plt.title(\"Breed height vs. weight\", fontsize=16);"
   ]
  },
  {
   "cell_type": "markdown",
   "metadata": {
    "slideshow": {
     "slide_type": "subslide"
    }
   },
   "source": [
    "#### Line plot\n",
    "* Let's plot the frequency of each outcome by year (2013 - 2019)..."
   ]
  },
  {
   "cell_type": "code",
   "execution_count": null,
   "metadata": {
    "slideshow": {
     "slide_type": "fragment"
    }
   },
   "outputs": [],
   "source": [
    "# We can use one of the predefined styles, which will completely\n",
    "# change the way plots look. Try plt.style.available to see\n",
    "# what's available. For kicks, you can also try plt.xkcd().\n",
    "plt.style.use('fivethirtyeight')\n",
    "\n",
    "# Get a list of unique outcomes\n",
    "outcomes = data['outcome'].unique()\n",
    "\n",
    "# Loop over outcomes and plot a line for each one\n",
    "for oc in outcomes:\n",
    "    # Get data subset for only this outcome\n",
    "    oc_data = data.query('outcome==@oc')\n",
    "    # Count number of events in each year\n",
    "    oc_count_by_year = oc_data.groupby('year')['outcome'].count()\n",
    "    # Plot a line--note the addition of the label, which will be\n",
    "    # used by the legend later.\n",
    "    plt.plot(oc_count_by_year, label=oc)\n",
    "\n",
    "\n",
    "# Add the legend and position it outside the box\n",
    "plt.legend(bbox_to_anchor=(1.03, 1.03))\n",
    "\n",
    "# Other minor touches...\n",
    "plt.ylabel('Number of events')  # y-axis label\n",
    "plt.xlim(2013, 2019) # limit x-axis to available years"
   ]
  },
  {
   "cell_type": "markdown",
   "metadata": {
    "slideshow": {
     "slide_type": "subslide"
    }
   },
   "source": [
    "#### Heatmap"
   ]
  },
  {
   "cell_type": "code",
   "execution_count": null,
   "metadata": {
    "slideshow": {
     "slide_type": "fragment"
    }
   },
   "outputs": [],
   "source": [
    "# Get rid of any style—restores the defaults\n",
    "plt.rcdefaults()\n",
    "\n",
    "# A heatmap of the crosstab we made earlier\n",
    "plt.imshow(ctab[:10], cmap='Blues')\n",
    "plt.yticks(np.arange(10), ctab[:10].index)\n",
    "plt.xticks(np.arange(8), ctab.columns, rotation=90);\n",
    "plt.colorbar();"
   ]
  },
  {
   "cell_type": "markdown",
   "metadata": {
    "slideshow": {
     "slide_type": "subslide"
    }
   },
   "source": [
    "### More complex examples"
   ]
  },
  {
   "cell_type": "markdown",
   "metadata": {
    "slideshow": {
     "slide_type": "subslide"
    }
   },
   "source": [
    "#### Stacked bar plot\n",
    "* Let's write some custom code to generate a nice stacked bar plot\n",
    "* Later, we'll see how to do this with much less code"
   ]
  },
  {
   "cell_type": "code",
   "execution_count": null,
   "metadata": {
    "slideshow": {
     "slide_type": "fragment"
    }
   },
   "outputs": [],
   "source": [
    "# To prevent clutter, let's show bars only for breeds with > 200 occurrences\n",
    "min200 = dogs.groupby('breed').filter(lambda x: len(x) >= 200)\n",
    "\n",
    "ct = pd.crosstab(min200['breed'], min200['outcome'], normalize='index')\n",
    "\n",
    "n_breeds = ct.shape[0]\n",
    "breed_x = np.arange(n_breeds)\n",
    "labels = ct.columns\n",
    "n_bins = len(labels)\n",
    "\n",
    "# Set up figure\n",
    "plt.figure(figsize=(16, 6))\n",
    "\n",
    "# Set up colors--we use seaborn's color_palette utility for this\n",
    "colors = sns.color_palette('Set2', n_bins)\n",
    "\n",
    "# Plot the first color\n",
    "plt.bar(breed_x, ct.iloc[:, 0], label=labels[0], color=colors[0])\n",
    "\n",
    "# Plot the other colors\n",
    "for i in range(1, len(labels)):\n",
    "    bottom = ct.iloc[:, :(i-1)].sum(1)\n",
    "    plt.bar(breed_x, ct.iloc[:, i], label=labels[i],\n",
    "            bottom=bottom, color=colors[i])\n",
    "    \n",
    "# Add x-axis labels\n",
    "plt.xticks(np.arange(n_breeds), ct.index, rotation=90, fontsize=16);\n",
    "\n",
    "# Add the legend outside the plot.\n",
    "plt.legend(bbox_to_anchor=(1, 1), fontsize=20);\n",
    "\n",
    "# # A slightly more complicated version if we want to reverse the legend order\n",
    "# # to match the bars more closely. The handles stuff is just to reverse the\n",
    "# # label order to match the bars\n",
    "# handles, labels = plt.gca().get_legend_handles_labels()\n",
    "# plt.legend(handles[::-1], labels[::-1], bbox_to_anchor=(1, 1), fontsize=20,);"
   ]
  },
  {
   "cell_type": "markdown",
   "metadata": {
    "slideshow": {
     "slide_type": "subslide"
    }
   },
   "source": [
    "### Customization in matplotlib\n",
    "* matplotlib is infinitely customizable\n",
    "* As in most modern plotting environments, you can do virtually anything\n",
    "* You just have to be willing to spend enough time on it"
   ]
  },
  {
   "cell_type": "markdown",
   "metadata": {
    "slideshow": {
     "slide_type": "subslide"
    }
   },
   "source": [
    "#### Matplotlib styles\n",
    "<img src=\"https://raw.githubusercontent.com/rasbt/matplotlib-gallery/master/images/formatting_4.png\">\n",
    "https://twitter.com/rasbt/status/731205324187795457"
   ]
  },
  {
   "cell_type": "code",
   "execution_count": null,
   "metadata": {
    "slideshow": {
     "slide_type": "slide"
    }
   },
   "outputs": [],
   "source": [
    "# A whole bunch of custom plotting code, just to generate\n",
    "# a relatively simple result.\n",
    "def plot_outcomes_by_time(data, unit='hour', min_unit=None, max_unit=None,\n",
    "                          animal=None, panel=None, agg_func='count',\n",
    "                          error_bars=False):\n",
    "    ''' Custom plotting functions that displays the number of\n",
    "    outcomes of each type as a function of a unit of time and\n",
    "    (optionally) any categorical variable.\n",
    "    \n",
    "    Args:\n",
    "        data (DataFrame): The data to plot\n",
    "        unit (str): The type of unit to plot on the x-axis\n",
    "        min_unit (int): Optional lower bound value for unit (e.g.,\n",
    "            if unit='hour' and min_unit=8, only plots hours > 8)\n",
    "        max_unit (int): Optional upper bound value for unit\n",
    "        animal (list): Optional list of animal species to include\n",
    "        panel (str): Optional name of variable to panel by\n",
    "        agg_func (str): Name of function used to aggregate within cell\n",
    "    '''\n",
    "    if animal is not None:\n",
    "        data = data[data['animal'].isin(animal)]\n",
    "    if panel is not None:\n",
    "        if panel == 'year':\n",
    "            panel_vars = [2014, 2015, 2016, 2017, 2018]\n",
    "        else:\n",
    "            panel_vars = data[panel].unique()\n",
    "        n_panels = len(panel_vars)\n",
    "        fig, axes = plt.subplots(1, n_panels, figsize=(5*n_panels, 4),\n",
    "                                 sharex=True, sharey=True)\n",
    "    else:\n",
    "        axes = [plt.gca()]\n",
    "\n",
    "    outcomes = ['Adoption', 'Transfer', 'Return to Owner', 'Euthanasia']\n",
    "    dummies = pd.get_dummies(data['outcome'])\n",
    "    data = pd.concat([data, dummies], axis=1)\n",
    "    \n",
    "    if min_unit is not None:\n",
    "        data = data[data[unit] >= min_unit]\n",
    "    if max_unit is not None:\n",
    "        data = data[data[unit] <= max_unit]\n",
    "    \n",
    "    for oc in outcomes:\n",
    "        groupers = [unit]\n",
    "        if panel is not None:\n",
    "            groupers.append(panel)\n",
    "        line = data.query('outcome==@oc')\\\n",
    "            .groupby(groupers)[oc].agg(agg_func).reset_index()\n",
    "        if panel is not None:\n",
    "            for i, pan in enumerate(panel_vars):\n",
    "                pan_line = line[line[panel]==pan]\n",
    "                axes[i].plot(pan_line[unit], pan_line[oc], label=oc, lw=3)\n",
    "                axes[i].set_title('{}: {}'.format(panel, pan), fontsize=18)\n",
    "                axes[i].set_xlabel(unit, fontsize=18)\n",
    "                axes[i].set_ylabel(\"No. of outcomes\", fontsize=18)\n",
    "    plt.legend(fontsize=16, loc='best')"
   ]
  },
  {
   "cell_type": "code",
   "execution_count": null,
   "metadata": {
    "slideshow": {
     "slide_type": "subslide"
    }
   },
   "outputs": [],
   "source": [
    "# Now we can flexibly call our custom plotter\n",
    "\n",
    "# Plot outcome counts by hour, paneling by animal\n",
    "plot_outcomes_by_time(data, unit='hour', panel='animal')\n",
    "\n",
    "# Plot outcome counts by day of week, only for dogs, paneling by year\n",
    "# plot_outcomes_by_time(data, animal=['Dog'], unit='day', panel='year')\n",
    "\n",
    "# Feel free to experiment..."
   ]
  },
  {
   "cell_type": "markdown",
   "metadata": {
    "slideshow": {
     "slide_type": "subslide"
    }
   },
   "source": [
    "### Alternative interfaces to matplotlib\n",
    "* Most of the time you don't want to spend three hours making a nice barplot\n",
    "* The appeal of packages like ggplot2 (in R) is power and elegance with speed\n",
    "* A number of high-level Python plotting packages built on matplotlib exist\n",
    "* For anything built on MPL, you can always customize any plot after the fact"
   ]
  },
  {
   "cell_type": "markdown",
   "metadata": {
    "slideshow": {
     "slide_type": "skip"
    }
   },
   "source": [
    "### ggplot2 for Python\n",
    "* ggplot2 has been (mostly) ported to Python as [plotnine](https://github.com/has2k1/plotnine)\n",
    "* Syntax is very similar to ggplot2 in R"
   ]
  },
  {
   "cell_type": "code",
   "execution_count": null,
   "metadata": {
    "slideshow": {
     "slide_type": "skip"
    }
   },
   "outputs": [],
   "source": [
    "# Grouped bar plot with animal and outcome on x-axis and age on y-axis\n",
    "from plotnine import *\n",
    "ggplot(data, aes(x='animal', y='age', fill='outcome')) + geom_bar(stat='identity', position='dodge')"
   ]
  },
  {
   "cell_type": "markdown",
   "metadata": {
    "slideshow": {
     "slide_type": "subslide"
    }
   },
   "source": [
    "### Plotting in pandas\n",
    "* Pandas provides basic plotting functionality\n",
    "* Well-integrated with DataFrames\n",
    "* Often the easiest way to quickly explore the data"
   ]
  },
  {
   "cell_type": "markdown",
   "metadata": {
    "slideshow": {
     "slide_type": "subslide"
    }
   },
   "source": [
    "#### Small multiples"
   ]
  },
  {
   "cell_type": "code",
   "execution_count": null,
   "metadata": {
    "slideshow": {
     "slide_type": "fragment"
    }
   },
   "outputs": [],
   "source": [
    "# To keep things simple, let's select only breeds with > 300 observations\n",
    "many_dogs = dogs.groupby('breed').filter(lambda x: len(x)>300)\n",
    "\n",
    "# Plot age histograms for all remaining breeds--with shared x-axis\n",
    "# to facilitate comparisons between breeds. Try setting sharey as well!\n",
    "many_dogs['age'].hist(by=many_dogs['breed'], bins=20, sharex=True);\n",
    "\n",
    "# Embiggen the figure a bit\n",
    "plt.gcf().set_size_inches((16, 16))"
   ]
  },
  {
   "cell_type": "markdown",
   "metadata": {
    "slideshow": {
     "slide_type": "subslide"
    }
   },
   "source": [
    "#### Stacked bars, the easy way"
   ]
  },
  {
   "cell_type": "code",
   "execution_count": null,
   "metadata": {
    "slideshow": {
     "slide_type": "subslide"
    }
   },
   "outputs": [],
   "source": [
    "# Our normalized cross-tab from earlier, with only breeds that\n",
    "# have a minimum of 200 observations\n",
    "min200 = dogs.groupby('breed').filter(lambda x: len(x) >= 200)\n",
    "ct = pd.crosstab(min200['breed'], min200['outcome'], normalize='index')\n",
    "\n",
    "# get nice colors from seaborn\n",
    "colors = sns.color_palette('Set2', n_bins)\n",
    "\n",
    "# the same result as before, in pandas, with much less code\n",
    "ct.plot.bar(stacked=True, fontsize=14, color=colors)\n",
    "\n",
    "# note we can still customize in matplotlib after plotting the\n",
    "# base plot with pandas\n",
    "plt.xticks(rotation=45, ha='right')\n",
    "\n",
    "# # # Add the legend outside the plot\n",
    "plt.legend(bbox_to_anchor=(1, 1), fontsize=16)\n",
    "\n",
    "# # # Resize everything\n",
    "plt.gcf().set_size_inches((12, 6))\n",
    "\n",
    "# # # Ruh-roh! Ugly colors! Fortunately, we can manually pass in a list of\n",
    "# # # colors to use via the colors argument to plot.bar(). We could reuse\n",
    "# # # the color list we created earlier in seaborn, for example."
   ]
  },
  {
   "cell_type": "markdown",
   "metadata": {
    "slideshow": {
     "slide_type": "subslide"
    }
   },
   "source": [
    "## Plotting in seaborn\n",
    "* Seaborn is a high-level plotting library based on matplotlib\n",
    "* Designed to produce attractive figures in very little code\n",
    "* _Great_ [documentation](https://stanford.edu/~mwaskom/software/seaborn/index.html)\n",
    "* Most seaborn plotting functions accept pandas DataFrames\n",
    "* Complete customization of seaborn plots is possible using matplotlib"
   ]
  },
  {
   "cell_type": "markdown",
   "metadata": {
    "slideshow": {
     "slide_type": "subslide"
    }
   },
   "source": [
    "### Heatmaps"
   ]
  },
  {
   "cell_type": "code",
   "execution_count": null,
   "metadata": {
    "slideshow": {
     "slide_type": "fragment"
    }
   },
   "outputs": [],
   "source": [
    "# The same contingency table from earlier.\n",
    "\n",
    "ax = sns.heatmap(ctab[:12], annot=True, fmt='d', linewidths=.5,\n",
    "                 annot_kws={'size': 14}, cmap='Blues')\n",
    "\n",
    "# Customize the label size and figure size in base matplotlib.\n",
    "# Notice we can access all axis and figure properties through\n",
    "# # the handle we saved when calling seaborn.\n",
    "ax.tick_params(labelsize=14)\n",
    "ax.figure.set_size_inches((7, 8))  # update the plot size"
   ]
  },
  {
   "cell_type": "markdown",
   "metadata": {
    "slideshow": {
     "slide_type": "subslide"
    }
   },
   "source": [
    "#### Pairwise correlations between all numeric variables in the dataset"
   ]
  },
  {
   "cell_type": "code",
   "execution_count": null,
   "metadata": {
    "slideshow": {
     "slide_type": "fragment"
    }
   },
   "outputs": [],
   "source": [
    "# Plot a heatmap of pairwise correlations between all continuous variables\n",
    "r = data.query('animal==\"Dog\"').corr().round(2)\n",
    "\n",
    "with sns.plotting_context(\"notebook\", font_scale=1.1):\n",
    "    ax = sns.heatmap(r, annot=True)\n",
    "    ax.figure.set_size_inches((12, 9.5))"
   ]
  },
  {
   "cell_type": "markdown",
   "metadata": {
    "slideshow": {
     "slide_type": "subslide"
    }
   },
   "source": [
    "* Don't like the color palette (`cmap` argument)? Pick a [different one](https://matplotlib.org/examples/color/colormaps_reference.html)!\n",
    "* Looks like the weight and height variables are almost completely redundant\n",
    "* Why do month and year show a strong negative correlation (-0.25)?\n",
    "* Illustrates the need for caution\n",
    "    * Most \"interesting\" findings turn out to have banal explanations!"
   ]
  },
  {
   "cell_type": "markdown",
   "metadata": {
    "slideshow": {
     "slide_type": "subslide"
    }
   },
   "source": [
    "### Pair plots\n",
    "* Systematic inspection of pairwise relationships is very useful\n",
    "* We've established that some breeds have very different outcomes\n",
    "* How do outcomes relate to one another at the breed level?\n",
    "    * Do some outcomes trade off against others?"
   ]
  },
  {
   "cell_type": "code",
   "execution_count": null,
   "metadata": {
    "slideshow": {
     "slide_type": "subslide"
    }
   },
   "outputs": [],
   "source": [
    "# Breed-level correlations between different outcomes and traits\n",
    "\n",
    "# Restrict to breed with minimum 50 dogs and outcomes with min. 200 occurrences\n",
    "tmp_data = data.query('animal==\"Dog\"')\n",
    "tmp_data = tmp_data.groupby('outcome').filter(lambda x: len(x) >= 200)\n",
    "tmp_data = tmp_data.groupby('breed').filter(lambda x: len(x) >= 50)\n",
    "\n",
    "# Dummy-code the outcomes as binary indicators and concatenate with original data\n",
    "outcomes = pd.get_dummies(tmp_data['outcome'])\n",
    "tmp_data = pd.concat([tmp_data, outcomes], axis=1)\n",
    "\n",
    "# Group by breed and calculate means\n",
    "tmp_data = tmp_data.groupby('breed').mean().dropna().reset_index()\n",
    "tmp_data = tmp_data[['Adoption', 'Euthanasia', 'Return to Owner', 'Transfer']]\n",
    "dog_breed_means = tmp_data  # Save for later\n",
    "\n",
    "# The actual plotting code is just this\n",
    "with sns.plotting_context(\"notebook\", font_scale=1.3):  # Make text bigger\n",
    "    sns.pairplot(tmp_data, diag_kind='hist', kind='reg')"
   ]
  },
  {
   "cell_type": "markdown",
   "metadata": {
    "slideshow": {
     "slide_type": "subslide"
    }
   },
   "source": [
    "### Bar plots\n",
    "* Let's explore how outcomes differ as a function of the variables in our dataset\n",
    "* We'll start by visualizing the raw counts for different animals"
   ]
  },
  {
   "cell_type": "code",
   "execution_count": null,
   "metadata": {
    "slideshow": {
     "slide_type": "fragment"
    }
   },
   "outputs": [],
   "source": [
    "# Probably no point in keeping livestock and birds!\n",
    "tmp_data = data.query('animal in [\"Cat\", \"Dog\", \"Other\"]')\n",
    "\n",
    "# And also, let's get rid of outcomes with fewer than 500 entries\n",
    "# Remember this filtering step from Day 2?\n",
    "tmp_data = tmp_data.groupby('outcome').filter(lambda x: len(x) >= 500)\n",
    "\n",
    "g = sns.catplot(x='outcome', data=tmp_data, col='animal', kind='count')\n",
    "g.set_xticklabels(rotation=45);"
   ]
  },
  {
   "cell_type": "markdown",
   "metadata": {
    "slideshow": {
     "slide_type": "skip"
    }
   },
   "source": [
    "The previous plot is kind of useful, so let's abstract it into a method. Then we can do the same thing (even more) quickly for other combinations of variables."
   ]
  },
  {
   "cell_type": "code",
   "execution_count": null,
   "metadata": {
    "slideshow": {
     "slide_type": "skip"
    }
   },
   "outputs": [],
   "source": [
    "def aac_factorplot(data, x, facet, y=None, kind='count'):\n",
    "    g = sns.factorplot(x=x, data=data, y=y, col=facet, kind=kind)\n",
    "    g.set_xticklabels(rotation=90)\n",
    "\n",
    "# Let's restrict analysis to only full-year data.\n",
    "years = [2014, 2015, 2016, 2017, 2018]\n",
    "full_years = tmp_data.query('year in @years')\n",
    "\n",
    "aac_factorplot(full_years, 'outcome', 'year')"
   ]
  },
  {
   "cell_type": "markdown",
   "metadata": {
    "slideshow": {
     "slide_type": "skip"
    }
   },
   "source": [
    "#### Do temporal variables matter?\n",
    "* We might expect day of the week to matter"
   ]
  },
  {
   "cell_type": "code",
   "execution_count": null,
   "metadata": {
    "scrolled": true,
    "slideshow": {
     "slide_type": "skip"
    }
   },
   "outputs": [],
   "source": [
    "tmp_data = data[data['animal'].isin(['Dog', 'Cat'])]\n",
    "tmp_data = tmp_data.groupby('outcome').filter(lambda x: len(x) >= 1000)\n",
    "sns.factorplot(x='animal', data=tmp_data, hue='outcome', col='day', kind='count') ;"
   ]
  },
  {
   "cell_type": "markdown",
   "metadata": {
    "slideshow": {
     "slide_type": "skip"
    }
   },
   "source": [
    "#### What about age?"
   ]
  },
  {
   "cell_type": "code",
   "execution_count": null,
   "metadata": {
    "slideshow": {
     "slide_type": "skip"
    }
   },
   "outputs": [],
   "source": [
    "tmp_data = data[data['animal'].isin(['Dog', 'Cat'])]\n",
    "tmp_data = data.query('year > 2013 and year < 2019')\n",
    "tmp_data = tmp_data.groupby('outcome').filter(lambda x: len(x) >= 500)\n",
    "sns.factorplot(x='animal', y='age', data=tmp_data, hue='outcome', col='year', kind='bar');"
   ]
  },
  {
   "cell_type": "markdown",
   "metadata": {
    "slideshow": {
     "slide_type": "skip"
    }
   },
   "source": [
    "#### Color?"
   ]
  },
  {
   "cell_type": "code",
   "execution_count": null,
   "metadata": {
    "scrolled": false,
    "slideshow": {
     "slide_type": "skip"
    }
   },
   "outputs": [],
   "source": [
    "# Restrict to just dogs\n",
    "tmp_data = data[data['animal'].isin(['Dog'])]\n",
    "\n",
    "# Filter on colors with more than 200 rows and outcomes with more than 500\n",
    "tmp_data = tmp_data.groupby('first_color').filter(lambda x: len(x) >= 200)\n",
    "tmp_data = tmp_data.groupby('outcome').filter(lambda x: len(x) >= 500)\n",
    "\n",
    "# Plot!\n",
    "sns.factorplot(x='outcome', data=tmp_data, hue='first_color', kind='count')\n",
    "plt.gcf().set_size_inches((12, 4))\n",
    "\n",
    "# It would be nice if the colors matched the labels, but that would be more work..."
   ]
  },
  {
   "cell_type": "markdown",
   "metadata": {
    "slideshow": {
     "slide_type": "subslide"
    }
   },
   "source": [
    "### What about uncertainty?\n",
    "* So far we've almost completely ignored estimation uncertainty\n",
    "* Good visualization represents uncertainty in a clear way\n",
    "* E.g., error bars, comparison distributions, etc."
   ]
  },
  {
   "cell_type": "markdown",
   "metadata": {
    "slideshow": {
     "slide_type": "subslide"
    }
   },
   "source": [
    "#### Breed age with error bars in matplotlib"
   ]
  },
  {
   "cell_type": "code",
   "execution_count": null,
   "metadata": {
    "slideshow": {
     "slide_type": "fragment"
    }
   },
   "outputs": [],
   "source": [
    "# Group by breed and get mean, standard deviation, and count for each breed\n",
    "age_data = data.groupby('breed_name')['age'].aggregate(['mean', 'std', 'count'])\n",
    "age_data['95ci'] = age_data['std']/np.sqrt(age_data['count'])\n",
    "\n",
    "# Let's pick 30 random breeds, otherwise the plot will be too big\n",
    "select_inds = np.random.choice(age_data.index, size=30)\n",
    "age_data = age_data.loc[select_inds, :]\n",
    "\n",
    "# Sort by ascending mean age\n",
    "age_data = age_data.sort_values('mean')\n",
    "\n",
    "# Rotate and align labels. Maybe place them at 45 degrees?\n",
    "plt.xticks(rotation='vertical', fontsize=12)\n",
    "\n",
    "# Bar plot with error bars\n",
    "plt.bar(x=age_data.index, height=age_data['mean'], yerr=age_data['95ci'])\n",
    "\n",
    "# Add y-axis label and title\n",
    "plt.ylabel(\"Mean age (months)\", fontsize=16)\n",
    "\n",
    "# Title\n",
    "plt.title(\"Mean age of AAC dogs, by breed\", fontsize=18)\n",
    "\n",
    "# Resize for legibility\n",
    "plt.gcf().set_size_inches(12, 4)"
   ]
  },
  {
   "cell_type": "markdown",
   "metadata": {
    "slideshow": {
     "slide_type": "skip"
    }
   },
   "source": [
    "#### Animal age with bootstrapped CIs in seaborn\n",
    "* Let's estimate the mean age of different dog breeds, broken down by outcome and day of week\n",
    "* By default, many seaborn plotting commands will bootstrap 95% confidence intervals"
   ]
  },
  {
   "cell_type": "code",
   "execution_count": null,
   "metadata": {
    "slideshow": {
     "slide_type": "skip"
    }
   },
   "outputs": [],
   "source": [
    "# Only dogs, cats, and other; the rest have too few observations\n",
    "tmp_data = data.query('animal==\"Dog\"')\n",
    "\n",
    "# Only the most common breeds\n",
    "tmp_data = tmp_data.groupby('breed').filter(lambda x: len(x) >= 1000)\n",
    "\n",
    "# Drop infrequent outcomes\n",
    "tmp_data = tmp_data.groupby('outcome').filter(lambda x: len(x) >= 500)\n",
    "\n",
    "# Display age in years\n",
    "tmp_data['age'] /= 12.0\n",
    "\n",
    "# Plot mean age by outcome on x-axis and separate columns for breeds\n",
    "g = sns.factorplot(x='outcome', data=tmp_data, y='age', col='breed', )\n",
    "g.set_xticklabels(rotation=90, fontsize=16);\n",
    "\n",
    "# In-class exercise: compare the result with what we'd get\n",
    "# without error bars. Would the conclusions we draw from the\n",
    "# data change? What about if we add in some less frequent\n",
    "# outcomes, breeds, etc.?"
   ]
  },
  {
   "cell_type": "markdown",
   "metadata": {
    "slideshow": {
     "slide_type": "slide"
    }
   },
   "source": [
    "# Statistical analysis\n",
    "* Python is historically not widely used for traditional statistics\n",
    "    * It's improving fast, but will probably never catch up to R\n",
    "* But it has decent support for many common techniques"
   ]
  },
  {
   "cell_type": "markdown",
   "metadata": {
    "slideshow": {
     "slide_type": "subslide"
    }
   },
   "source": [
    "## Statistical tools in SciPy\n",
    "* The SciPy package includes a well-developed [stats module](http://docs.scipy.org/doc/scipy/reference/stats.html)\n",
    "* Caters more to computational scientists than end users\n",
    "    * Interface is heavily object-oriented\n",
    "    * You usually have to take the extra step yourself\n",
    "    * Performance is very good, but interface is clunky"
   ]
  },
  {
   "cell_type": "markdown",
   "metadata": {
    "slideshow": {
     "slide_type": "subslide"
    }
   },
   "source": [
    "### Lots of descriptives and convenience functions"
   ]
  },
  {
   "cell_type": "code",
   "execution_count": null,
   "metadata": {
    "slideshow": {
     "slide_type": "fragment"
    }
   },
   "outputs": [],
   "source": [
    "# Descriptive statistics for age in months\n",
    "print(stats.describe(data['age'].dropna()))"
   ]
  },
  {
   "cell_type": "code",
   "execution_count": null,
   "metadata": {
    "slideshow": {
     "slide_type": "fragment"
    }
   },
   "outputs": [],
   "source": [
    "# Plenty of little convenience functions\n",
    "age = 60\n",
    "percentile = stats.percentileofscore(data['age'], age)\n",
    "print(\"\\nA {}-month old animal is at the {:.0f}th percentile.\".format(age, percentile)) "
   ]
  },
  {
   "cell_type": "markdown",
   "metadata": {
    "slideshow": {
     "slide_type": "subslide"
    }
   },
   "source": [
    "### Distributions a-plenty\n",
    "* Large number of statistical [distributions](http://docs.scipy.org/doc/scipy/reference/stats.html#continuous-distributions)\n",
    "* All of the standard distribution functions (pdf, cdf, random sampling, etc.) "
   ]
  },
  {
   "cell_type": "code",
   "execution_count": null,
   "metadata": {
    "slideshow": {
     "slide_type": "fragment"
    }
   },
   "outputs": [],
   "source": [
    "# Sample 100000 observations...\n",
    "n = 100000\n",
    "\n",
    "# ...from each of the normal, t(10), and beta(2, 5) distributions\n",
    "normal = stats.norm.rvs(size=n)\n",
    "t = stats.t.rvs(df=10, size=n)\n",
    "beta = stats.beta.rvs(a=2, b=5, loc=-2, scale=6, size=n)\n",
    "\n",
    "# Set up figure\n",
    "ax = plt.figure(figsize=(6, 4)).gca()\n",
    "\n",
    "# Plot a kde plot of each distribution\n",
    "labels = ['t', 'normal', 'beta']\n",
    "for i, dist in enumerate([t, normal, beta]):\n",
    "    sns.kdeplot(dist, ax=ax, lw=2, label=labels[i])\n"
   ]
  },
  {
   "cell_type": "code",
   "execution_count": null,
   "metadata": {
    "slideshow": {
     "slide_type": "fragment"
    }
   },
   "outputs": [],
   "source": [
    "# Use CDF of normal to convert p-values to z-scores\n",
    "print(stats.norm.ppf(0.001))"
   ]
  },
  {
   "cell_type": "code",
   "execution_count": null,
   "metadata": {
    "slideshow": {
     "slide_type": "fragment"
    }
   },
   "outputs": [],
   "source": [
    "# t statistic to p-value\n",
    "print(stats.t.cdf(1.46, df=22))"
   ]
  },
  {
   "cell_type": "code",
   "execution_count": null,
   "metadata": {
    "slideshow": {
     "slide_type": "fragment"
    }
   },
   "outputs": [],
   "source": [
    "# Endpoints of interval containing 90% of distribution\n",
    "print(stats.beta.interval(0.9, a=2, b=5))"
   ]
  },
  {
   "cell_type": "markdown",
   "metadata": {
    "slideshow": {
     "slide_type": "subslide"
    }
   },
   "source": [
    "### Basic tests\n",
    "* You can do things like t-tests and ANOVAs with SciPy if you really want\n",
    "* But they'd would be more pleasant in R—this isn't where Python shines"
   ]
  },
  {
   "cell_type": "code",
   "execution_count": null,
   "metadata": {
    "slideshow": {
     "slide_type": "fragment"
    }
   },
   "outputs": [],
   "source": [
    "# Independent samples t-test: do cats and dogs processed at the center differ in age?\n",
    "\n",
    "# Extract \n",
    "dog_age = data.query('animal==\"Dog\"')['age'].dropna()\n",
    "cat_age = data.query('animal==\"Cat\"')['age'].dropna()\n",
    "\n",
    "# ttest_ind returns a tuple of t and p values\n",
    "t, p = stats.ttest_ind(dog_age, cat_age)\n",
    "\n",
    "# Report means as well\n",
    "dm, cm = dog_age.mean(), cat_age.mean()\n",
    "\n",
    "# Print something for the user\n",
    "print(\"Dogs (mean = {:.2f}) vs. Cats (mean = {:.2f}), t = {:.2f}, p={:.2g}\".format(dm, cm, t, p))"
   ]
  },
  {
   "cell_type": "markdown",
   "metadata": {
    "slideshow": {
     "slide_type": "subslide"
    }
   },
   "source": [
    "## [Statsmodels](http://statsmodels.sourceforge.net/devel/index.html#)\n",
    "* Python's answer to base R\n",
    "* It's not a great answer, but it's improving\n",
    "* For common procedures, functionality is very similar to R"
   ]
  },
  {
   "cell_type": "markdown",
   "metadata": {
    "slideshow": {
     "slide_type": "subslide"
    }
   },
   "source": [
    "### What's in statsmodels\n",
    "* Basic tests\n",
    "* Linear models\n",
    "* Diagnostics and specification tests\n",
    "* Power calculations\n",
    "* Multiple comparisons correction\n",
    "* Time-series analysis\n",
    "* Experimental support for many other things (e.g. mixed-effects models)"
   ]
  },
  {
   "cell_type": "markdown",
   "metadata": {
    "slideshow": {
     "slide_type": "subslide"
    }
   },
   "source": [
    "### Statsmodel examples\n",
    "* Let's build a model to predict whether an animal is euthanized or not\n",
    "* We'll use logistic regression using the formula interface\n",
    "* We'll start by predicting euthanasia from just age, sex, and sterilization"
   ]
  },
  {
   "cell_type": "code",
   "execution_count": null,
   "metadata": {
    "slideshow": {
     "slide_type": "subslide"
    }
   },
   "outputs": [],
   "source": [
    "import statsmodels.formula.api as smf\n",
    "\n",
    "# Drop missing values from analysis\n",
    "tmp_data = data[['outcome', 'age', 'sex', 'sterilized']].dropna()\n",
    "print(\"Kept {} observations.\".format(len(tmp_data)))\n",
    "\n",
    "# # The dependent variable: whether the animal was euthanized\n",
    "tmp_data['y'] = (tmp_data['outcome'] == 'Euthanasia').astype(int)\n",
    "\n",
    "# Specify the model with a formula\n",
    "model = smf.logit('y ~ age + sex * sterilized', data=tmp_data)\n",
    "\n",
    "# Fit model and save result\n",
    "result = model.fit()\n",
    "\n",
    "# Print a user-friendly summary\n",
    "result.summary()"
   ]
  },
  {
   "cell_type": "markdown",
   "metadata": {
    "slideshow": {
     "slide_type": "subslide"
    }
   },
   "source": [
    "### Should you do classical statistics in Python?\n",
    "* In the interest of providing a fair overview...\n",
    "* If you plan to do a lot of classical inference (t-tests, ANOVAs, MLMs...), you will probably have an easier time in R\n",
    "* If you want to do probabilistic programming, machine learning, or deep learning, Python shines\n",
    "    * We'll cover some of this tomorrow"
   ]
  }
 ],
 "metadata": {
  "celltoolbar": "Slideshow",
  "kernelspec": {
   "display_name": "Python 3",
   "language": "python",
   "name": "python3"
  },
  "language_info": {
   "codemirror_mode": {
    "name": "ipython",
    "version": 3
   },
   "file_extension": ".py",
   "mimetype": "text/x-python",
   "name": "python",
   "nbconvert_exporter": "python",
   "pygments_lexer": "ipython3",
   "version": "3.6.8"
  }
 },
 "nbformat": 4,
 "nbformat_minor": 1
}
